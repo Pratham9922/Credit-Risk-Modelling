{
 "cells": [
  {
   "cell_type": "code",
   "execution_count": 1,
   "id": "080630ec",
   "metadata": {},
   "outputs": [],
   "source": [
    "import numpy as np\n",
    "import pandas as pd\n",
    "import matplotlib.pyplot as plt\n",
    "from sklearn.metrics import r2_score\n",
    "from scipy.stats import chi2_contingency\n",
    "from statsmodels.stats.outliers_influence import variance_inflation_factor\n",
    "from sklearn.model_selection import train_test_split\n",
    "from sklearn.ensemble import RandomForestClassifier\n",
    "from sklearn.metrics import accuracy_score,classification_report,precision_recall_fscore_support\n",
    "import warnings\n",
    "import os"
   ]
  },
  {
   "cell_type": "code",
   "execution_count": 2,
   "id": "af99af1c",
   "metadata": {},
   "outputs": [],
   "source": [
    "df1=pd.read_csv(\"case_study1.xlsx - case_study1.csv\")\n",
    "df2=pd.read_csv(\"case_study2.xlsx - case_study2.csv\")"
   ]
  },
  {
   "cell_type": "code",
   "execution_count": 3,
   "id": "91c891df",
   "metadata": {},
   "outputs": [
    {
     "name": "stdout",
     "output_type": "stream",
     "text": [
      "<class 'pandas.core.frame.DataFrame'>\n",
      "RangeIndex: 51336 entries, 0 to 51335\n",
      "Data columns (total 26 columns):\n",
      " #   Column                Non-Null Count  Dtype  \n",
      "---  ------                --------------  -----  \n",
      " 0   PROSPECTID            51336 non-null  int64  \n",
      " 1   Total_TL              51336 non-null  int64  \n",
      " 2   Tot_Closed_TL         51336 non-null  int64  \n",
      " 3   Tot_Active_TL         51336 non-null  int64  \n",
      " 4   Total_TL_opened_L6M   51336 non-null  int64  \n",
      " 5   Tot_TL_closed_L6M     51336 non-null  int64  \n",
      " 6   pct_tl_open_L6M       51336 non-null  float64\n",
      " 7   pct_tl_closed_L6M     51336 non-null  float64\n",
      " 8   pct_active_tl         51336 non-null  float64\n",
      " 9   pct_closed_tl         51336 non-null  float64\n",
      " 10  Total_TL_opened_L12M  51336 non-null  int64  \n",
      " 11  Tot_TL_closed_L12M    51336 non-null  int64  \n",
      " 12  pct_tl_open_L12M      51336 non-null  float64\n",
      " 13  pct_tl_closed_L12M    51336 non-null  float64\n",
      " 14  Tot_Missed_Pmnt       51336 non-null  int64  \n",
      " 15  Auto_TL               51336 non-null  int64  \n",
      " 16  CC_TL                 51336 non-null  int64  \n",
      " 17  Consumer_TL           51336 non-null  int64  \n",
      " 18  Gold_TL               51336 non-null  int64  \n",
      " 19  Home_TL               51336 non-null  int64  \n",
      " 20  PL_TL                 51336 non-null  int64  \n",
      " 21  Secured_TL            51336 non-null  int64  \n",
      " 22  Unsecured_TL          51336 non-null  int64  \n",
      " 23  Other_TL              51336 non-null  int64  \n",
      " 24  Age_Oldest_TL         51336 non-null  int64  \n",
      " 25  Age_Newest_TL         51336 non-null  int64  \n",
      "dtypes: float64(6), int64(20)\n",
      "memory usage: 10.2 MB\n"
     ]
    }
   ],
   "source": [
    "df1.info()"
   ]
  },
  {
   "cell_type": "code",
   "execution_count": 4,
   "id": "67d53234",
   "metadata": {},
   "outputs": [],
   "source": [
    "df1=df1.loc[df1['Age_Oldest_TL']!=-99999]  #removed the rows which has AGE_OLDEST_TL == -99999 since it was 40 rows out of 51000"
   ]
  },
  {
   "cell_type": "code",
   "execution_count": 5,
   "id": "a68d44be",
   "metadata": {},
   "outputs": [
    {
     "data": {
      "text/plain": [
       "(51296, 26)"
      ]
     },
     "execution_count": 5,
     "metadata": {},
     "output_type": "execute_result"
    }
   ],
   "source": [
    "df1.shape"
   ]
  },
  {
   "cell_type": "code",
   "execution_count": 6,
   "id": "7fcbd8ee",
   "metadata": {},
   "outputs": [],
   "source": [
    "columns_to_be_removed=[]\n",
    "for i in df2.columns:\n",
    "    if df2.loc[df2[i]==-99999].shape[0]>10000:\n",
    "        columns_to_be_removed.append(i)"
   ]
  },
  {
   "cell_type": "code",
   "execution_count": 7,
   "id": "665bfd01",
   "metadata": {},
   "outputs": [
    {
     "data": {
      "text/plain": [
       "8"
      ]
     },
     "execution_count": 7,
     "metadata": {},
     "output_type": "execute_result"
    }
   ],
   "source": [
    "len(columns_to_be_removed)"
   ]
  },
  {
   "cell_type": "code",
   "execution_count": 8,
   "id": "e64b061d",
   "metadata": {},
   "outputs": [],
   "source": [
    "df2.drop(columns_to_be_removed,axis=1,inplace=True)"
   ]
  },
  {
   "cell_type": "code",
   "execution_count": 9,
   "id": "d7c48363",
   "metadata": {},
   "outputs": [
    {
     "data": {
      "text/plain": [
       "(51336, 54)"
      ]
     },
     "execution_count": 9,
     "metadata": {},
     "output_type": "execute_result"
    }
   ],
   "source": [
    "df2.shape"
   ]
  },
  {
   "cell_type": "code",
   "execution_count": 10,
   "id": "9ac4ffed",
   "metadata": {},
   "outputs": [],
   "source": [
    "for i in df2.columns:\n",
    "    df2=df2.loc[df2[i]!=-99999]"
   ]
  },
  {
   "cell_type": "code",
   "execution_count": 11,
   "id": "a91c898a",
   "metadata": {},
   "outputs": [
    {
     "data": {
      "text/plain": [
       "(42066, 54)"
      ]
     },
     "execution_count": 11,
     "metadata": {},
     "output_type": "execute_result"
    }
   ],
   "source": [
    "df2.shape"
   ]
  },
  {
   "cell_type": "code",
   "execution_count": 12,
   "id": "fc071a2d",
   "metadata": {},
   "outputs": [
    {
     "name": "stdout",
     "output_type": "stream",
     "text": [
      "PROSPECTID\n"
     ]
    }
   ],
   "source": [
    "for i in df2.columns:\n",
    "    if i in df1.columns:\n",
    "        print(i)"
   ]
  },
  {
   "cell_type": "markdown",
   "id": "2670b0ff",
   "metadata": {},
   "source": [
    "# Merging the two datasets"
   ]
  },
  {
   "cell_type": "code",
   "execution_count": 13,
   "id": "1d3756a1",
   "metadata": {},
   "outputs": [],
   "source": [
    "df=pd.merge(df1,df2,how='inner',left_on=['PROSPECTID'],right_on=['PROSPECTID'])"
   ]
  },
  {
   "cell_type": "code",
   "execution_count": 14,
   "id": "2332a9b1",
   "metadata": {
    "scrolled": true
   },
   "outputs": [
    {
     "name": "stdout",
     "output_type": "stream",
     "text": [
      "<class 'pandas.core.frame.DataFrame'>\n",
      "RangeIndex: 42064 entries, 0 to 42063\n",
      "Data columns (total 79 columns):\n",
      " #   Column                      Non-Null Count  Dtype  \n",
      "---  ------                      --------------  -----  \n",
      " 0   PROSPECTID                  42064 non-null  int64  \n",
      " 1   Total_TL                    42064 non-null  int64  \n",
      " 2   Tot_Closed_TL               42064 non-null  int64  \n",
      " 3   Tot_Active_TL               42064 non-null  int64  \n",
      " 4   Total_TL_opened_L6M         42064 non-null  int64  \n",
      " 5   Tot_TL_closed_L6M           42064 non-null  int64  \n",
      " 6   pct_tl_open_L6M             42064 non-null  float64\n",
      " 7   pct_tl_closed_L6M           42064 non-null  float64\n",
      " 8   pct_active_tl               42064 non-null  float64\n",
      " 9   pct_closed_tl               42064 non-null  float64\n",
      " 10  Total_TL_opened_L12M        42064 non-null  int64  \n",
      " 11  Tot_TL_closed_L12M          42064 non-null  int64  \n",
      " 12  pct_tl_open_L12M            42064 non-null  float64\n",
      " 13  pct_tl_closed_L12M          42064 non-null  float64\n",
      " 14  Tot_Missed_Pmnt             42064 non-null  int64  \n",
      " 15  Auto_TL                     42064 non-null  int64  \n",
      " 16  CC_TL                       42064 non-null  int64  \n",
      " 17  Consumer_TL                 42064 non-null  int64  \n",
      " 18  Gold_TL                     42064 non-null  int64  \n",
      " 19  Home_TL                     42064 non-null  int64  \n",
      " 20  PL_TL                       42064 non-null  int64  \n",
      " 21  Secured_TL                  42064 non-null  int64  \n",
      " 22  Unsecured_TL                42064 non-null  int64  \n",
      " 23  Other_TL                    42064 non-null  int64  \n",
      " 24  Age_Oldest_TL               42064 non-null  int64  \n",
      " 25  Age_Newest_TL               42064 non-null  int64  \n",
      " 26  time_since_recent_payment   42064 non-null  int64  \n",
      " 27  num_times_delinquent        42064 non-null  int64  \n",
      " 28  max_recent_level_of_deliq   42064 non-null  int64  \n",
      " 29  num_deliq_6mts              42064 non-null  int64  \n",
      " 30  num_deliq_12mts             42064 non-null  int64  \n",
      " 31  num_deliq_6_12mts           42064 non-null  int64  \n",
      " 32  num_times_30p_dpd           42064 non-null  int64  \n",
      " 33  num_times_60p_dpd           42064 non-null  int64  \n",
      " 34  num_std                     42064 non-null  int64  \n",
      " 35  num_std_6mts                42064 non-null  int64  \n",
      " 36  num_std_12mts               42064 non-null  int64  \n",
      " 37  num_sub                     42064 non-null  int64  \n",
      " 38  num_sub_6mts                42064 non-null  int64  \n",
      " 39  num_sub_12mts               42064 non-null  int64  \n",
      " 40  num_dbt                     42064 non-null  int64  \n",
      " 41  num_dbt_6mts                42064 non-null  int64  \n",
      " 42  num_dbt_12mts               42064 non-null  int64  \n",
      " 43  num_lss                     42064 non-null  int64  \n",
      " 44  num_lss_6mts                42064 non-null  int64  \n",
      " 45  num_lss_12mts               42064 non-null  int64  \n",
      " 46  recent_level_of_deliq       42064 non-null  int64  \n",
      " 47  tot_enq                     42064 non-null  int64  \n",
      " 48  CC_enq                      42064 non-null  int64  \n",
      " 49  CC_enq_L6m                  42064 non-null  int64  \n",
      " 50  CC_enq_L12m                 42064 non-null  int64  \n",
      " 51  PL_enq                      42064 non-null  int64  \n",
      " 52  PL_enq_L6m                  42064 non-null  int64  \n",
      " 53  PL_enq_L12m                 42064 non-null  int64  \n",
      " 54  time_since_recent_enq       42064 non-null  int64  \n",
      " 55  enq_L12m                    42064 non-null  int64  \n",
      " 56  enq_L6m                     42064 non-null  int64  \n",
      " 57  enq_L3m                     42064 non-null  int64  \n",
      " 58  MARITALSTATUS               42064 non-null  object \n",
      " 59  EDUCATION                   42064 non-null  object \n",
      " 60  AGE                         42064 non-null  int64  \n",
      " 61  GENDER                      42064 non-null  object \n",
      " 62  NETMONTHLYINCOME            42064 non-null  int64  \n",
      " 63  Time_With_Curr_Empr         42064 non-null  int64  \n",
      " 64  pct_of_active_TLs_ever      42064 non-null  float64\n",
      " 65  pct_opened_TLs_L6m_of_L12m  42064 non-null  float64\n",
      " 66  pct_currentBal_all_TL       42064 non-null  float64\n",
      " 67  CC_Flag                     42064 non-null  int64  \n",
      " 68  PL_Flag                     42064 non-null  int64  \n",
      " 69  pct_PL_enq_L6m_of_L12m      42064 non-null  float64\n",
      " 70  pct_CC_enq_L6m_of_L12m      42064 non-null  float64\n",
      " 71  pct_PL_enq_L6m_of_ever      42064 non-null  float64\n",
      " 72  pct_CC_enq_L6m_of_ever      42064 non-null  float64\n",
      " 73  HL_Flag                     42064 non-null  int64  \n",
      " 74  GL_Flag                     42064 non-null  int64  \n",
      " 75  last_prod_enq2              42064 non-null  object \n",
      " 76  first_prod_enq2             42064 non-null  object \n",
      " 77  Credit_Score                42064 non-null  int64  \n",
      " 78  Approved_Flag               42064 non-null  object \n",
      "dtypes: float64(13), int64(60), object(6)\n",
      "memory usage: 25.4+ MB\n"
     ]
    }
   ],
   "source": [
    "df.info()"
   ]
  },
  {
   "cell_type": "code",
   "execution_count": 15,
   "id": "c9159445",
   "metadata": {},
   "outputs": [],
   "source": [
    "#check for the categorical columns\n",
    "categorical_columns=[]\n",
    "for i in df.columns:\n",
    "    if df[i].dtype=='object':\n",
    "        categorical_columns.append(i)"
   ]
  },
  {
   "cell_type": "code",
   "execution_count": 16,
   "id": "5d81d108",
   "metadata": {},
   "outputs": [
    {
     "data": {
      "text/plain": [
       "['MARITALSTATUS',\n",
       " 'EDUCATION',\n",
       " 'GENDER',\n",
       " 'last_prod_enq2',\n",
       " 'first_prod_enq2',\n",
       " 'Approved_Flag']"
      ]
     },
     "execution_count": 16,
     "metadata": {},
     "output_type": "execute_result"
    }
   ],
   "source": [
    "categorical_columns"
   ]
  },
  {
   "cell_type": "code",
   "execution_count": 17,
   "id": "86129530",
   "metadata": {},
   "outputs": [
    {
     "name": "stdout",
     "output_type": "stream",
     "text": [
      "MARITALSTATUS\n",
      "Married    30886\n",
      "Single     11178\n",
      "Name: count, dtype: int64\n",
      "\n",
      "\n",
      "EDUCATION\n",
      "GRADUATE          14140\n",
      "12TH              11703\n",
      "SSC                7241\n",
      "UNDER GRADUATE     4572\n",
      "OTHERS             2291\n",
      "POST-GRADUATE      1898\n",
      "PROFESSIONAL        219\n",
      "Name: count, dtype: int64\n",
      "\n",
      "\n",
      "GENDER\n",
      "M    37345\n",
      "F     4719\n",
      "Name: count, dtype: int64\n",
      "\n",
      "\n",
      "last_prod_enq2\n",
      "ConsumerLoan    16480\n",
      "others          13653\n",
      "PL               7553\n",
      "CC               2195\n",
      "AL               1353\n",
      "HL                830\n",
      "Name: count, dtype: int64\n",
      "\n",
      "\n",
      "first_prod_enq2\n",
      "others          20640\n",
      "ConsumerLoan    11075\n",
      "PL               4431\n",
      "AL               2641\n",
      "CC               1988\n",
      "HL               1289\n",
      "Name: count, dtype: int64\n",
      "\n",
      "\n",
      "Approved_Flag\n",
      "P2    25452\n",
      "P3     6440\n",
      "P4     5264\n",
      "P1     4908\n",
      "Name: count, dtype: int64\n",
      "\n",
      "\n"
     ]
    }
   ],
   "source": [
    "for i in categorical_columns:\n",
    "    print(df[i].value_counts())\n",
    "    print(\"\\n\")"
   ]
  },
  {
   "cell_type": "code",
   "execution_count": 18,
   "id": "a479c7c6",
   "metadata": {},
   "outputs": [
    {
     "name": "stdout",
     "output_type": "stream",
     "text": [
      "MARITALSTATUS ---> 3.578180861038862e-233\n",
      "EDUCATION ---> 2.6942265249737532e-30\n",
      "GENDER ---> 1.907936100186563e-05\n",
      "last_prod_enq2 ---> 0.0\n",
      "first_prod_enq2 ---> 7.84997610555419e-287\n",
      "Approved_Flag ---> 0.0\n"
     ]
    }
   ],
   "source": [
    "for i in categorical_columns:\n",
    "    chi2,pval,_,_ = chi2_contingency(pd.crosstab(df[i],df['Approved_Flag']))\n",
    "    print(i,'--->',pval)\n",
    "#since all the five features have pval<=0.05, we will accept all these features"
   ]
  },
  {
   "cell_type": "code",
   "execution_count": 19,
   "id": "c556a7ae",
   "metadata": {},
   "outputs": [],
   "source": [
    "numeric_columns=[]\n",
    "for i in df.columns:\n",
    "    if df[i].dtype!='object' and i not in ['PROSPECTID','Approved_Flag']:\n",
    "        numeric_columns.append(i)"
   ]
  },
  {
   "cell_type": "code",
   "execution_count": 20,
   "id": "06a5eb47",
   "metadata": {},
   "outputs": [
    {
     "data": {
      "text/plain": [
       "72"
      ]
     },
     "execution_count": 20,
     "metadata": {},
     "output_type": "execute_result"
    }
   ],
   "source": [
    "len(numeric_columns)"
   ]
  },
  {
   "cell_type": "code",
   "execution_count": 21,
   "id": "5e7fa800",
   "metadata": {},
   "outputs": [
    {
     "name": "stderr",
     "output_type": "stream",
     "text": [
      "C:\\Users\\HP\\anaconda3\\Lib\\site-packages\\statsmodels\\stats\\outliers_influence.py:198: RuntimeWarning: divide by zero encountered in scalar divide\n",
      "  vif = 1. / (1. - r_squared_i)\n"
     ]
    },
    {
     "name": "stdout",
     "output_type": "stream",
     "text": [
      "0 ---> inf\n"
     ]
    },
    {
     "name": "stderr",
     "output_type": "stream",
     "text": [
      "C:\\Users\\HP\\anaconda3\\Lib\\site-packages\\statsmodels\\stats\\outliers_influence.py:198: RuntimeWarning: divide by zero encountered in scalar divide\n",
      "  vif = 1. / (1. - r_squared_i)\n"
     ]
    },
    {
     "name": "stdout",
     "output_type": "stream",
     "text": [
      "0 ---> inf\n",
      "0 ---> 11.320180023967996\n",
      "0 ---> 8.363698035000336\n",
      "0 ---> 6.520647877790928\n",
      "0 ---> 5.149501618212625\n",
      "1 ---> 2.611111040579735\n"
     ]
    },
    {
     "name": "stderr",
     "output_type": "stream",
     "text": [
      "C:\\Users\\HP\\anaconda3\\Lib\\site-packages\\statsmodels\\stats\\outliers_influence.py:198: RuntimeWarning: divide by zero encountered in scalar divide\n",
      "  vif = 1. / (1. - r_squared_i)\n"
     ]
    },
    {
     "name": "stdout",
     "output_type": "stream",
     "text": [
      "2 ---> inf\n",
      "2 ---> 1788.7926256209232\n",
      "2 ---> 8.601028256477228\n",
      "2 ---> 3.8328007921530785\n",
      "3 ---> 6.0996533816467355\n",
      "3 ---> 5.5813520096427585\n",
      "4 ---> 1.985584353098778\n"
     ]
    },
    {
     "name": "stderr",
     "output_type": "stream",
     "text": [
      "C:\\Users\\HP\\anaconda3\\Lib\\site-packages\\statsmodels\\stats\\outliers_influence.py:198: RuntimeWarning: divide by zero encountered in scalar divide\n",
      "  vif = 1. / (1. - r_squared_i)\n"
     ]
    },
    {
     "name": "stdout",
     "output_type": "stream",
     "text": [
      "5 ---> inf\n",
      "5 ---> 4.809538302819343\n",
      "6 ---> 23.270628983464636\n",
      "6 ---> 30.595522588100053\n",
      "6 ---> 4.3843464059655854\n",
      "7 ---> 3.0646584155234238\n",
      "8 ---> 2.898639771299252\n",
      "9 ---> 4.377876915347322\n",
      "10 ---> 2.2078535836958433\n",
      "11 ---> 4.916914200506864\n",
      "12 ---> 5.214702030064725\n",
      "13 ---> 3.3861625024231476\n",
      "14 ---> 7.840583309478997\n",
      "14 ---> 5.255034641721438\n"
     ]
    },
    {
     "name": "stderr",
     "output_type": "stream",
     "text": [
      "C:\\Users\\HP\\anaconda3\\Lib\\site-packages\\statsmodels\\stats\\outliers_influence.py:198: RuntimeWarning: divide by zero encountered in scalar divide\n",
      "  vif = 1. / (1. - r_squared_i)\n"
     ]
    },
    {
     "name": "stdout",
     "output_type": "stream",
     "text": [
      "15 ---> inf\n",
      "15 ---> 7.380634506427232\n",
      "15 ---> 1.421005001517573\n",
      "16 ---> 8.083255010190323\n",
      "16 ---> 1.6241227524040112\n",
      "17 ---> 7.257811920140003\n",
      "17 ---> 15.59624383268298\n",
      "17 ---> 1.8258570471324314\n",
      "18 ---> 1.5080839450032664\n",
      "19 ---> 2.172088834824577\n",
      "20 ---> 2.623397553527229\n",
      "21 ---> 2.2959970812106167\n",
      "22 ---> 7.360578319196446\n",
      "22 ---> 2.1602387773102554\n",
      "23 ---> 2.8686288267891475\n",
      "24 ---> 6.458218003637272\n",
      "24 ---> 2.8474118865638256\n",
      "25 ---> 4.753198156284083\n",
      "26 ---> 16.22735475594825\n",
      "26 ---> 6.424377256363877\n",
      "26 ---> 8.887080381808687\n",
      "26 ---> 2.3804746142952653\n",
      "27 ---> 8.609513476514548\n",
      "27 ---> 13.06755093547673\n",
      "27 ---> 3.5000400566546555\n",
      "28 ---> 1.9087955874813773\n",
      "29 ---> 17.006562234161628\n",
      "29 ---> 10.730485153719197\n",
      "29 ---> 2.3538497522950275\n",
      "30 ---> 22.104855915136433\n",
      "30 ---> 2.7971639638512924\n",
      "31 ---> 3.424171203217697\n",
      "32 ---> 10.175021454450935\n",
      "32 ---> 6.408710354561301\n",
      "32 ---> 1.0011511962625612\n",
      "33 ---> 3.069197305397274\n",
      "34 ---> 2.8091261600643724\n",
      "35 ---> 20.249538381980678\n",
      "35 ---> 15.864576541593774\n",
      "35 ---> 1.8331649740532172\n",
      "36 ---> 1.5680839909542044\n",
      "37 ---> 1.9307572353811682\n",
      "38 ---> 4.331265056645247\n",
      "39 ---> 9.390334396150173\n"
     ]
    }
   ],
   "source": [
    "#VIF Sequentially Check\n",
    "vif_data=df[numeric_columns]\n",
    "total_columns=vif_data.shape[1]\n",
    "columns_to_be_kept=[]\n",
    "column_index=0\n",
    "\n",
    "for i in range(0,total_columns):\n",
    "    vif_value=variance_inflation_factor(vif_data,column_index)\n",
    "    print(column_index,'--->',vif_value)\n",
    "    \n",
    "    if vif_value<=6:\n",
    "        columns_to_be_kept.append(numeric_columns[i])\n",
    "        column_index=column_index+1\n",
    "    else:\n",
    "        vif_data=vif_data.drop([numeric_columns[i]],axis=1)"
   ]
  },
  {
   "cell_type": "code",
   "execution_count": 22,
   "id": "2cbdec4a",
   "metadata": {},
   "outputs": [
    {
     "data": {
      "text/plain": [
       "(42064, 39)"
      ]
     },
     "execution_count": 22,
     "metadata": {},
     "output_type": "execute_result"
    }
   ],
   "source": [
    "vif_data.shape"
   ]
  },
  {
   "cell_type": "code",
   "execution_count": 23,
   "id": "a4f73da5",
   "metadata": {},
   "outputs": [],
   "source": [
    "from scipy.stats import f_oneway\n",
    "columns_to_be_kept_numerical=[]\n",
    "\n",
    "for i in columns_to_be_kept:\n",
    "    a=list(df[i])\n",
    "    b=list(df['Approved_Flag'])\n",
    "    \n",
    "    group_P1=[value for value,group in zip(a,b) if group=='P1']\n",
    "    group_P2=[value for value,group in zip(a,b) if group=='P2']\n",
    "    group_P3=[value for value,group in zip(a,b) if group=='P3']\n",
    "    group_P4=[value for value,group in zip(a,b) if group=='P4']\n",
    "    \n",
    "    f_statistic,p_value=f_oneway(group_P1,group_P2,group_P3,group_P4)\n",
    "    \n",
    "    if p_value<=0.5:\n",
    "        columns_to_be_kept_numerical.append(i)"
   ]
  },
  {
   "cell_type": "code",
   "execution_count": 24,
   "id": "8abe3ff8",
   "metadata": {},
   "outputs": [],
   "source": [
    "#done with feature engineering part"
   ]
  },
  {
   "cell_type": "code",
   "execution_count": 25,
   "id": "7a96e1da",
   "metadata": {},
   "outputs": [
    {
     "data": {
      "text/plain": [
       "['MARITALSTATUS',\n",
       " 'EDUCATION',\n",
       " 'GENDER',\n",
       " 'last_prod_enq2',\n",
       " 'first_prod_enq2',\n",
       " 'Approved_Flag']"
      ]
     },
     "execution_count": 25,
     "metadata": {},
     "output_type": "execute_result"
    }
   ],
   "source": [
    "categorical_columns"
   ]
  },
  {
   "cell_type": "code",
   "execution_count": 26,
   "id": "09abb612",
   "metadata": {},
   "outputs": [],
   "source": [
    "# GRADUATE          14140\n",
    "# 12TH              11703\n",
    "# SSC                7241\n",
    "# UNDER GRADUATE     4572\n",
    "# OTHERS             2291\n",
    "# POST-GRADUATE      1898\n",
    "# PROFESSIONAL        219"
   ]
  },
  {
   "cell_type": "code",
   "execution_count": 27,
   "id": "189a4179",
   "metadata": {},
   "outputs": [],
   "source": [
    "df.loc[df['EDUCATION']=='SSC',['EDUCATION']]=1\n",
    "df.loc[df['EDUCATION']=='12TH',['EDUCATION']]=2\n",
    "df.loc[df['EDUCATION']=='UNDER GRADUATE',['EDUCATION']]=3\n",
    "df.loc[df['EDUCATION']=='GRADUATE',['EDUCATION']]=3\n",
    "df.loc[df['EDUCATION']=='OTHERS',['EDUCATION']]=1\n",
    "df.loc[df['EDUCATION']=='POST-GRADUATE',['EDUCATION']]=4\n",
    "df.loc[df['EDUCATION']=='PROFESSIONAL',['EDUCATION']]=3"
   ]
  },
  {
   "cell_type": "code",
   "execution_count": 28,
   "id": "da6b70f4",
   "metadata": {},
   "outputs": [
    {
     "data": {
      "text/plain": [
       "EDUCATION\n",
       "3    18931\n",
       "2    11703\n",
       "1     9532\n",
       "4     1898\n",
       "Name: count, dtype: int64"
      ]
     },
     "execution_count": 28,
     "metadata": {},
     "output_type": "execute_result"
    }
   ],
   "source": [
    "df['EDUCATION'].value_counts()"
   ]
  },
  {
   "cell_type": "code",
   "execution_count": 29,
   "id": "3d3c6531",
   "metadata": {},
   "outputs": [],
   "source": [
    "df['EDUCATION']=df['EDUCATION'].astype(int)"
   ]
  },
  {
   "cell_type": "code",
   "execution_count": 30,
   "id": "a22df1d4",
   "metadata": {},
   "outputs": [],
   "source": [
    "df_encoded=pd.get_dummies(df,columns=['MARITALSTATUS','GENDER','last_prod_enq2','first_prod_enq2'])"
   ]
  },
  {
   "cell_type": "code",
   "execution_count": 32,
   "id": "d2c73e72",
   "metadata": {},
   "outputs": [
    {
     "data": {
      "text/plain": [
       "Index(['PROSPECTID', 'Total_TL', 'Tot_Closed_TL', 'Tot_Active_TL',\n",
       "       'Total_TL_opened_L6M', 'Tot_TL_closed_L6M', 'pct_tl_open_L6M',\n",
       "       'pct_tl_closed_L6M', 'pct_active_tl', 'pct_closed_tl',\n",
       "       'Total_TL_opened_L12M', 'Tot_TL_closed_L12M', 'pct_tl_open_L12M',\n",
       "       'pct_tl_closed_L12M', 'Tot_Missed_Pmnt', 'Auto_TL', 'CC_TL',\n",
       "       'Consumer_TL', 'Gold_TL', 'Home_TL', 'PL_TL', 'Secured_TL',\n",
       "       'Unsecured_TL', 'Other_TL', 'Age_Oldest_TL', 'Age_Newest_TL',\n",
       "       'time_since_recent_payment', 'num_times_delinquent',\n",
       "       'max_recent_level_of_deliq', 'num_deliq_6mts', 'num_deliq_12mts',\n",
       "       'num_deliq_6_12mts', 'num_times_30p_dpd', 'num_times_60p_dpd',\n",
       "       'num_std', 'num_std_6mts', 'num_std_12mts', 'num_sub', 'num_sub_6mts',\n",
       "       'num_sub_12mts', 'num_dbt', 'num_dbt_6mts', 'num_dbt_12mts', 'num_lss',\n",
       "       'num_lss_6mts', 'num_lss_12mts', 'recent_level_of_deliq', 'tot_enq',\n",
       "       'CC_enq', 'CC_enq_L6m', 'CC_enq_L12m', 'PL_enq', 'PL_enq_L6m',\n",
       "       'PL_enq_L12m', 'time_since_recent_enq', 'enq_L12m', 'enq_L6m',\n",
       "       'enq_L3m', 'EDUCATION', 'AGE', 'NETMONTHLYINCOME',\n",
       "       'Time_With_Curr_Empr', 'pct_of_active_TLs_ever',\n",
       "       'pct_opened_TLs_L6m_of_L12m', 'pct_currentBal_all_TL', 'CC_Flag',\n",
       "       'PL_Flag', 'pct_PL_enq_L6m_of_L12m', 'pct_CC_enq_L6m_of_L12m',\n",
       "       'pct_PL_enq_L6m_of_ever', 'pct_CC_enq_L6m_of_ever', 'HL_Flag',\n",
       "       'GL_Flag', 'Credit_Score', 'Approved_Flag', 'MARITALSTATUS_Married',\n",
       "       'MARITALSTATUS_Single', 'GENDER_F', 'GENDER_M', 'last_prod_enq2_AL',\n",
       "       'last_prod_enq2_CC', 'last_prod_enq2_ConsumerLoan', 'last_prod_enq2_HL',\n",
       "       'last_prod_enq2_PL', 'last_prod_enq2_others', 'first_prod_enq2_AL',\n",
       "       'first_prod_enq2_CC', 'first_prod_enq2_ConsumerLoan',\n",
       "       'first_prod_enq2_HL', 'first_prod_enq2_PL', 'first_prod_enq2_others'],\n",
       "      dtype='object')"
      ]
     },
     "execution_count": 32,
     "metadata": {},
     "output_type": "execute_result"
    }
   ],
   "source": [
    "df_encoded.columns"
   ]
  },
  {
   "cell_type": "code",
   "execution_count": 33,
   "id": "dca38d78",
   "metadata": {},
   "outputs": [],
   "source": [
    "df_encoded['MARITALSTATUS_Married']=df_encoded['MARITALSTATUS_Married'].astype(int)\n",
    "df_encoded['MARITALSTATUS_Single']=df_encoded['MARITALSTATUS_Single'].astype(int)\n",
    "df_encoded['GENDER_F']=df_encoded['GENDER_F'].astype(int)\n",
    "df_encoded['GENDER_M']=df_encoded['GENDER_M'].astype(int)\n",
    "df_encoded['last_prod_enq2_AL']=df_encoded['last_prod_enq2_AL'].astype(int)\n",
    "df_encoded['last_prod_enq2_CC']=df_encoded['last_prod_enq2_CC'].astype(int)\n",
    "df_encoded['last_prod_enq2_ConsumerLoan']=df_encoded['last_prod_enq2_ConsumerLoan'].astype(int)\n",
    "df_encoded['last_prod_enq2_HL']=df_encoded['last_prod_enq2_HL'].astype(int)\n",
    "df_encoded['last_prod_enq2_PL']=df_encoded['last_prod_enq2_PL'].astype(int)\n",
    "df_encoded['last_prod_enq2_others']=df_encoded['last_prod_enq2_others'].astype(int)\n",
    "df_encoded['first_prod_enq2_AL']=df_encoded['first_prod_enq2_AL'].astype(int)\n",
    "df_encoded['first_prod_enq2_CC']=df_encoded['first_prod_enq2_CC'].astype(int)\n",
    "df_encoded['first_prod_enq2_ConsumerLoan']=df_encoded['first_prod_enq2_ConsumerLoan'].astype(int)\n",
    "df_encoded['first_prod_enq2_HL']=df_encoded['first_prod_enq2_HL'].astype(int)\n",
    "df_encoded['first_prod_enq2_PL']=df_encoded['first_prod_enq2_PL'].astype(int)\n",
    "df_encoded['first_prod_enq2_others']=df_encoded['first_prod_enq2_others'].astype(int)"
   ]
  },
  {
   "cell_type": "code",
   "execution_count": 51,
   "id": "1b6131e2",
   "metadata": {},
   "outputs": [
    {
     "data": {
      "text/html": [
       "<div>\n",
       "<style scoped>\n",
       "    .dataframe tbody tr th:only-of-type {\n",
       "        vertical-align: middle;\n",
       "    }\n",
       "\n",
       "    .dataframe tbody tr th {\n",
       "        vertical-align: top;\n",
       "    }\n",
       "\n",
       "    .dataframe thead th {\n",
       "        text-align: right;\n",
       "    }\n",
       "</style>\n",
       "<table border=\"1\" class=\"dataframe\">\n",
       "  <thead>\n",
       "    <tr style=\"text-align: right;\">\n",
       "      <th></th>\n",
       "      <th>PROSPECTID</th>\n",
       "      <th>Total_TL</th>\n",
       "      <th>Tot_Closed_TL</th>\n",
       "      <th>Tot_Active_TL</th>\n",
       "      <th>Total_TL_opened_L6M</th>\n",
       "      <th>Tot_TL_closed_L6M</th>\n",
       "      <th>pct_tl_open_L6M</th>\n",
       "      <th>pct_tl_closed_L6M</th>\n",
       "      <th>pct_active_tl</th>\n",
       "      <th>pct_closed_tl</th>\n",
       "      <th>...</th>\n",
       "      <th>last_prod_enq2_ConsumerLoan</th>\n",
       "      <th>last_prod_enq2_HL</th>\n",
       "      <th>last_prod_enq2_PL</th>\n",
       "      <th>last_prod_enq2_others</th>\n",
       "      <th>first_prod_enq2_AL</th>\n",
       "      <th>first_prod_enq2_CC</th>\n",
       "      <th>first_prod_enq2_ConsumerLoan</th>\n",
       "      <th>first_prod_enq2_HL</th>\n",
       "      <th>first_prod_enq2_PL</th>\n",
       "      <th>first_prod_enq2_others</th>\n",
       "    </tr>\n",
       "  </thead>\n",
       "  <tbody>\n",
       "    <tr>\n",
       "      <th>0</th>\n",
       "      <td>1</td>\n",
       "      <td>5</td>\n",
       "      <td>4</td>\n",
       "      <td>1</td>\n",
       "      <td>0</td>\n",
       "      <td>0</td>\n",
       "      <td>0.000</td>\n",
       "      <td>0.0</td>\n",
       "      <td>0.200</td>\n",
       "      <td>0.800</td>\n",
       "      <td>...</td>\n",
       "      <td>0</td>\n",
       "      <td>0</td>\n",
       "      <td>1</td>\n",
       "      <td>0</td>\n",
       "      <td>0</td>\n",
       "      <td>0</td>\n",
       "      <td>0</td>\n",
       "      <td>0</td>\n",
       "      <td>1</td>\n",
       "      <td>0</td>\n",
       "    </tr>\n",
       "    <tr>\n",
       "      <th>1</th>\n",
       "      <td>2</td>\n",
       "      <td>1</td>\n",
       "      <td>0</td>\n",
       "      <td>1</td>\n",
       "      <td>0</td>\n",
       "      <td>0</td>\n",
       "      <td>0.000</td>\n",
       "      <td>0.0</td>\n",
       "      <td>1.000</td>\n",
       "      <td>0.000</td>\n",
       "      <td>...</td>\n",
       "      <td>1</td>\n",
       "      <td>0</td>\n",
       "      <td>0</td>\n",
       "      <td>0</td>\n",
       "      <td>0</td>\n",
       "      <td>0</td>\n",
       "      <td>1</td>\n",
       "      <td>0</td>\n",
       "      <td>0</td>\n",
       "      <td>0</td>\n",
       "    </tr>\n",
       "    <tr>\n",
       "      <th>2</th>\n",
       "      <td>3</td>\n",
       "      <td>8</td>\n",
       "      <td>0</td>\n",
       "      <td>8</td>\n",
       "      <td>1</td>\n",
       "      <td>0</td>\n",
       "      <td>0.125</td>\n",
       "      <td>0.0</td>\n",
       "      <td>1.000</td>\n",
       "      <td>0.000</td>\n",
       "      <td>...</td>\n",
       "      <td>1</td>\n",
       "      <td>0</td>\n",
       "      <td>0</td>\n",
       "      <td>0</td>\n",
       "      <td>0</td>\n",
       "      <td>0</td>\n",
       "      <td>0</td>\n",
       "      <td>0</td>\n",
       "      <td>0</td>\n",
       "      <td>1</td>\n",
       "    </tr>\n",
       "    <tr>\n",
       "      <th>3</th>\n",
       "      <td>5</td>\n",
       "      <td>3</td>\n",
       "      <td>2</td>\n",
       "      <td>1</td>\n",
       "      <td>0</td>\n",
       "      <td>0</td>\n",
       "      <td>0.000</td>\n",
       "      <td>0.0</td>\n",
       "      <td>0.333</td>\n",
       "      <td>0.667</td>\n",
       "      <td>...</td>\n",
       "      <td>0</td>\n",
       "      <td>0</td>\n",
       "      <td>0</td>\n",
       "      <td>0</td>\n",
       "      <td>1</td>\n",
       "      <td>0</td>\n",
       "      <td>0</td>\n",
       "      <td>0</td>\n",
       "      <td>0</td>\n",
       "      <td>0</td>\n",
       "    </tr>\n",
       "    <tr>\n",
       "      <th>4</th>\n",
       "      <td>6</td>\n",
       "      <td>6</td>\n",
       "      <td>5</td>\n",
       "      <td>1</td>\n",
       "      <td>0</td>\n",
       "      <td>0</td>\n",
       "      <td>0.000</td>\n",
       "      <td>0.0</td>\n",
       "      <td>0.167</td>\n",
       "      <td>0.833</td>\n",
       "      <td>...</td>\n",
       "      <td>1</td>\n",
       "      <td>0</td>\n",
       "      <td>0</td>\n",
       "      <td>0</td>\n",
       "      <td>0</td>\n",
       "      <td>0</td>\n",
       "      <td>0</td>\n",
       "      <td>0</td>\n",
       "      <td>1</td>\n",
       "      <td>0</td>\n",
       "    </tr>\n",
       "  </tbody>\n",
       "</table>\n",
       "<p>5 rows × 91 columns</p>\n",
       "</div>"
      ],
      "text/plain": [
       "   PROSPECTID  Total_TL  Tot_Closed_TL  Tot_Active_TL  Total_TL_opened_L6M  \\\n",
       "0           1         5              4              1                    0   \n",
       "1           2         1              0              1                    0   \n",
       "2           3         8              0              8                    1   \n",
       "3           5         3              2              1                    0   \n",
       "4           6         6              5              1                    0   \n",
       "\n",
       "   Tot_TL_closed_L6M  pct_tl_open_L6M  pct_tl_closed_L6M  pct_active_tl  \\\n",
       "0                  0            0.000                0.0          0.200   \n",
       "1                  0            0.000                0.0          1.000   \n",
       "2                  0            0.125                0.0          1.000   \n",
       "3                  0            0.000                0.0          0.333   \n",
       "4                  0            0.000                0.0          0.167   \n",
       "\n",
       "   pct_closed_tl  ...  last_prod_enq2_ConsumerLoan  last_prod_enq2_HL  \\\n",
       "0          0.800  ...                            0                  0   \n",
       "1          0.000  ...                            1                  0   \n",
       "2          0.000  ...                            1                  0   \n",
       "3          0.667  ...                            0                  0   \n",
       "4          0.833  ...                            1                  0   \n",
       "\n",
       "   last_prod_enq2_PL  last_prod_enq2_others  first_prod_enq2_AL  \\\n",
       "0                  1                      0                   0   \n",
       "1                  0                      0                   0   \n",
       "2                  0                      0                   0   \n",
       "3                  0                      0                   1   \n",
       "4                  0                      0                   0   \n",
       "\n",
       "   first_prod_enq2_CC  first_prod_enq2_ConsumerLoan  first_prod_enq2_HL  \\\n",
       "0                   0                             0                   0   \n",
       "1                   0                             1                   0   \n",
       "2                   0                             0                   0   \n",
       "3                   0                             0                   0   \n",
       "4                   0                             0                   0   \n",
       "\n",
       "   first_prod_enq2_PL  first_prod_enq2_others  \n",
       "0                   1                       0  \n",
       "1                   0                       0  \n",
       "2                   0                       1  \n",
       "3                   0                       0  \n",
       "4                   1                       0  \n",
       "\n",
       "[5 rows x 91 columns]"
      ]
     },
     "execution_count": 51,
     "metadata": {},
     "output_type": "execute_result"
    }
   ],
   "source": [
    "df_encoded.head() #now True And False Converted to 0s and 1s"
   ]
  },
  {
   "cell_type": "code",
   "execution_count": 52,
   "id": "820a8b2f",
   "metadata": {},
   "outputs": [
    {
     "data": {
      "text/plain": [
       "Approved_Flag\n",
       "P2    25452\n",
       "P3     6440\n",
       "P4     5264\n",
       "P1     4908\n",
       "Name: count, dtype: int64"
      ]
     },
     "execution_count": 52,
     "metadata": {},
     "output_type": "execute_result"
    }
   ],
   "source": [
    "df_encoded['Approved_Flag'].value_counts()"
   ]
  },
  {
   "cell_type": "code",
   "execution_count": 36,
   "id": "4877d6e6",
   "metadata": {},
   "outputs": [],
   "source": [
    "y=df_encoded['Approved_Flag']\n",
    "X=df_encoded.drop(['Approved_Flag'],axis=1)\n",
    "X_train,X_test,y_train,y_test=train_test_split(X,y,test_size=0.2,random_state=42)"
   ]
  },
  {
   "cell_type": "markdown",
   "id": "a2fa904e",
   "metadata": {},
   "source": [
    "# 1. Random Forest Model"
   ]
  },
  {
   "cell_type": "code",
   "execution_count": 37,
   "id": "0b4561ae",
   "metadata": {},
   "outputs": [],
   "source": [
    "rf=RandomForestClassifier(n_estimators=200,random_state=42)\n",
    "rf.fit(X_train,y_train)\n",
    "y_pred=rf.predict(X_test)"
   ]
  },
  {
   "cell_type": "code",
   "execution_count": 40,
   "id": "19996837",
   "metadata": {},
   "outputs": [
    {
     "name": "stdout",
     "output_type": "stream",
     "text": [
      "Accuracy:  0.9900154522762391\n",
      "class=p1\n",
      "\n",
      "Precision: 0.9465290806754222\n",
      "Recall:0.995069033530572\n",
      "F1_score: 0.9701923076923077\n",
      "\n",
      "\n",
      "class=p2\n",
      "\n",
      "Precision: 0.9954617205998422\n",
      "Recall:1.0\n",
      "F1_score: 0.9977256995945812\n",
      "\n",
      "\n",
      "class=p3\n",
      "\n",
      "Precision: 0.9968102073365231\n",
      "Recall:0.9433962264150944\n",
      "F1_score: 0.9693679720822024\n",
      "\n",
      "\n",
      "class=p4\n",
      "\n",
      "Precision: 1.0\n",
      "Recall:0.9961127308066083\n",
      "F1_score: 0.9980525803310614\n",
      "\n",
      "\n"
     ]
    }
   ],
   "source": [
    "accuracy=accuracy_score(y_test,y_pred)\n",
    "print('Accuracy: ',accuracy)\n",
    "precision,recall,f1_score,_=precision_recall_fscore_support(y_test,y_pred)\n",
    "\n",
    "for i,v in enumerate (['p1','p2','p3','p4']):\n",
    "    print(f\"class={v}\")\n",
    "    print()\n",
    "    print(f\"Precision: {precision[i]}\")\n",
    "    print(f\"Recall:{recall[i]}\")\n",
    "    print(f\"F1_score: {f1_score[i]}\")\n",
    "    print(\"\\n\")"
   ]
  },
  {
   "cell_type": "markdown",
   "id": "e8e5e44d",
   "metadata": {},
   "source": [
    "# 2. XGBoost Model"
   ]
  },
  {
   "cell_type": "code",
   "execution_count": 44,
   "id": "4d2bfa01",
   "metadata": {
    "scrolled": true
   },
   "outputs": [
    {
     "name": "stdout",
     "output_type": "stream",
     "text": [
      "Collecting xgboost\n",
      "  Downloading xgboost-2.0.3-py3-none-win_amd64.whl.metadata (2.0 kB)\n",
      "Requirement already satisfied: numpy in c:\\users\\hp\\anaconda3\\lib\\site-packages (from xgboost) (1.26.4)\n",
      "Requirement already satisfied: scipy in c:\\users\\hp\\anaconda3\\lib\\site-packages (from xgboost) (1.11.4)\n",
      "Downloading xgboost-2.0.3-py3-none-win_amd64.whl (99.8 MB)\n",
      "   ---------------------------------------- 0.0/99.8 MB ? eta -:--:--\n",
      "   ---------------------------------------- 0.0/99.8 MB 1.3 MB/s eta 0:01:18\n",
      "   ---------------------------------------- 0.2/99.8 MB 5.0 MB/s eta 0:00:20\n",
      "    --------------------------------------- 1.5/99.8 MB 13.6 MB/s eta 0:00:08\n",
      "    --------------------------------------- 1.8/99.8 MB 11.4 MB/s eta 0:00:09\n",
      "    --------------------------------------- 2.1/99.8 MB 11.4 MB/s eta 0:00:09\n",
      "    --------------------------------------- 2.5/99.8 MB 10.5 MB/s eta 0:00:10\n",
      "   - -------------------------------------- 2.7/99.8 MB 9.9 MB/s eta 0:00:10\n",
      "   - -------------------------------------- 2.9/99.8 MB 8.9 MB/s eta 0:00:11\n",
      "   - -------------------------------------- 3.2/99.8 MB 8.9 MB/s eta 0:00:11\n",
      "   - -------------------------------------- 3.5/99.8 MB 8.5 MB/s eta 0:00:12\n",
      "   - -------------------------------------- 3.7/99.8 MB 8.1 MB/s eta 0:00:12\n",
      "   - -------------------------------------- 3.9/99.8 MB 8.0 MB/s eta 0:00:12\n",
      "   - -------------------------------------- 4.1/99.8 MB 7.8 MB/s eta 0:00:13\n",
      "   - -------------------------------------- 4.4/99.8 MB 7.8 MB/s eta 0:00:13\n",
      "   - -------------------------------------- 4.7/99.8 MB 7.4 MB/s eta 0:00:13\n",
      "   -- ------------------------------------- 5.0/99.8 MB 7.6 MB/s eta 0:00:13\n",
      "   -- ------------------------------------- 5.2/99.8 MB 7.6 MB/s eta 0:00:13\n",
      "   -- ------------------------------------- 5.6/99.8 MB 7.4 MB/s eta 0:00:13\n",
      "   -- ------------------------------------- 5.8/99.8 MB 7.2 MB/s eta 0:00:14\n",
      "   -- ------------------------------------- 6.0/99.8 MB 7.1 MB/s eta 0:00:14\n",
      "   -- ------------------------------------- 6.1/99.8 MB 6.9 MB/s eta 0:00:14\n",
      "   -- ------------------------------------- 6.2/99.8 MB 6.7 MB/s eta 0:00:15\n",
      "   -- ------------------------------------- 6.4/99.8 MB 6.5 MB/s eta 0:00:15\n",
      "   -- ------------------------------------- 6.5/99.8 MB 6.3 MB/s eta 0:00:15\n",
      "   -- ------------------------------------- 6.7/99.8 MB 6.2 MB/s eta 0:00:16\n",
      "   -- ------------------------------------- 6.7/99.8 MB 6.2 MB/s eta 0:00:16\n",
      "   -- ------------------------------------- 6.8/99.8 MB 5.8 MB/s eta 0:00:17\n",
      "   -- ------------------------------------- 7.0/99.8 MB 5.8 MB/s eta 0:00:17\n",
      "   -- ------------------------------------- 7.2/99.8 MB 5.7 MB/s eta 0:00:17\n",
      "   -- ------------------------------------- 7.4/99.8 MB 5.6 MB/s eta 0:00:17\n",
      "   --- ------------------------------------ 7.6/99.8 MB 5.6 MB/s eta 0:00:17\n",
      "   --- ------------------------------------ 7.9/99.8 MB 5.6 MB/s eta 0:00:17\n",
      "   --- ------------------------------------ 8.1/99.8 MB 5.6 MB/s eta 0:00:17\n",
      "   --- ------------------------------------ 8.4/99.8 MB 5.6 MB/s eta 0:00:17\n",
      "   --- ------------------------------------ 8.7/99.8 MB 5.6 MB/s eta 0:00:17\n",
      "   --- ------------------------------------ 9.0/99.8 MB 5.7 MB/s eta 0:00:17\n",
      "   --- ------------------------------------ 9.4/99.8 MB 5.7 MB/s eta 0:00:16\n",
      "   --- ------------------------------------ 9.7/99.8 MB 5.7 MB/s eta 0:00:16\n",
      "   ---- ----------------------------------- 10.0/99.8 MB 5.8 MB/s eta 0:00:16\n",
      "   ---- ----------------------------------- 10.4/99.8 MB 5.9 MB/s eta 0:00:16\n",
      "   ---- ----------------------------------- 10.8/99.8 MB 5.8 MB/s eta 0:00:16\n",
      "   ---- ----------------------------------- 11.2/99.8 MB 5.7 MB/s eta 0:00:16\n",
      "   ---- ----------------------------------- 11.6/99.8 MB 5.6 MB/s eta 0:00:16\n",
      "   ---- ----------------------------------- 12.1/99.8 MB 5.6 MB/s eta 0:00:16\n",
      "   ----- ---------------------------------- 12.6/99.8 MB 5.6 MB/s eta 0:00:16\n",
      "   ----- ---------------------------------- 12.9/99.8 MB 5.7 MB/s eta 0:00:16\n",
      "   ----- ---------------------------------- 13.2/99.8 MB 5.7 MB/s eta 0:00:16\n",
      "   ----- ---------------------------------- 13.5/99.8 MB 5.7 MB/s eta 0:00:16\n",
      "   ----- ---------------------------------- 13.6/99.8 MB 5.6 MB/s eta 0:00:16\n",
      "   ----- ---------------------------------- 13.8/99.8 MB 5.6 MB/s eta 0:00:16\n",
      "   ----- ---------------------------------- 14.0/99.8 MB 5.6 MB/s eta 0:00:16\n",
      "   ----- ---------------------------------- 14.1/99.8 MB 5.5 MB/s eta 0:00:16\n",
      "   ----- ---------------------------------- 14.3/99.8 MB 5.4 MB/s eta 0:00:16\n",
      "   ----- ---------------------------------- 14.3/99.8 MB 5.3 MB/s eta 0:00:17\n",
      "   ----- ---------------------------------- 14.5/99.8 MB 5.3 MB/s eta 0:00:17\n",
      "   ----- ---------------------------------- 14.8/99.8 MB 5.2 MB/s eta 0:00:17\n",
      "   ----- ---------------------------------- 14.9/99.8 MB 5.2 MB/s eta 0:00:17\n",
      "   ------ --------------------------------- 15.2/99.8 MB 5.2 MB/s eta 0:00:17\n",
      "   ------ --------------------------------- 15.5/99.8 MB 5.2 MB/s eta 0:00:17\n",
      "   ------ --------------------------------- 15.8/99.8 MB 5.2 MB/s eta 0:00:17\n",
      "   ------ --------------------------------- 16.0/99.8 MB 5.1 MB/s eta 0:00:17\n",
      "   ------ --------------------------------- 16.1/99.8 MB 5.1 MB/s eta 0:00:17\n",
      "   ------ --------------------------------- 16.2/99.8 MB 5.1 MB/s eta 0:00:17\n",
      "   ------ --------------------------------- 16.3/99.8 MB 5.0 MB/s eta 0:00:17\n",
      "   ------ --------------------------------- 16.4/99.8 MB 5.0 MB/s eta 0:00:17\n",
      "   ------ --------------------------------- 16.7/99.8 MB 5.2 MB/s eta 0:00:17\n",
      "   ------ --------------------------------- 17.1/99.8 MB 5.5 MB/s eta 0:00:16\n",
      "   ------- -------------------------------- 17.5/99.8 MB 5.6 MB/s eta 0:00:15\n",
      "   ------- -------------------------------- 17.7/99.8 MB 5.7 MB/s eta 0:00:15\n",
      "   ------- -------------------------------- 18.3/99.8 MB 5.8 MB/s eta 0:00:14\n",
      "   ------- -------------------------------- 18.6/99.8 MB 5.9 MB/s eta 0:00:14\n",
      "   ------- -------------------------------- 19.1/99.8 MB 6.0 MB/s eta 0:00:14\n",
      "   ------- -------------------------------- 19.5/99.8 MB 6.1 MB/s eta 0:00:14\n",
      "   ------- -------------------------------- 19.9/99.8 MB 6.1 MB/s eta 0:00:14\n",
      "   -------- ------------------------------- 20.3/99.8 MB 6.1 MB/s eta 0:00:13\n",
      "   -------- ------------------------------- 20.6/99.8 MB 6.1 MB/s eta 0:00:14\n",
      "   -------- ------------------------------- 20.7/99.8 MB 6.0 MB/s eta 0:00:14\n",
      "   -------- ------------------------------- 20.9/99.8 MB 5.8 MB/s eta 0:00:14\n",
      "   -------- ------------------------------- 21.0/99.8 MB 5.7 MB/s eta 0:00:14\n",
      "   -------- ------------------------------- 21.1/99.8 MB 5.6 MB/s eta 0:00:14\n",
      "   -------- ------------------------------- 21.2/99.8 MB 5.6 MB/s eta 0:00:15\n",
      "   -------- ------------------------------- 21.4/99.8 MB 5.5 MB/s eta 0:00:15\n",
      "   -------- ------------------------------- 21.6/99.8 MB 5.4 MB/s eta 0:00:15\n",
      "   -------- ------------------------------- 21.8/99.8 MB 5.3 MB/s eta 0:00:15\n",
      "   -------- ------------------------------- 22.0/99.8 MB 5.2 MB/s eta 0:00:15\n",
      "   -------- ------------------------------- 22.1/99.8 MB 5.2 MB/s eta 0:00:15\n",
      "   -------- ------------------------------- 22.4/99.8 MB 5.2 MB/s eta 0:00:16\n",
      "   --------- ------------------------------ 22.6/99.8 MB 5.1 MB/s eta 0:00:16\n",
      "   --------- ------------------------------ 22.9/99.8 MB 5.0 MB/s eta 0:00:16\n",
      "   --------- ------------------------------ 23.2/99.8 MB 5.0 MB/s eta 0:00:16\n",
      "   --------- ------------------------------ 23.4/99.8 MB 5.0 MB/s eta 0:00:16\n",
      "   --------- ------------------------------ 23.7/99.8 MB 5.0 MB/s eta 0:00:16\n",
      "   --------- ------------------------------ 23.9/99.8 MB 5.1 MB/s eta 0:00:15\n",
      "   --------- ------------------------------ 24.3/99.8 MB 5.2 MB/s eta 0:00:15\n",
      "   --------- ------------------------------ 24.6/99.8 MB 5.5 MB/s eta 0:00:14\n",
      "   --------- ------------------------------ 24.9/99.8 MB 5.5 MB/s eta 0:00:14\n",
      "   ---------- ----------------------------- 25.3/99.8 MB 5.6 MB/s eta 0:00:14\n",
      "   ---------- ----------------------------- 25.7/99.8 MB 5.6 MB/s eta 0:00:14\n",
      "   ---------- ----------------------------- 26.0/99.8 MB 5.7 MB/s eta 0:00:13\n",
      "   ---------- ----------------------------- 26.4/99.8 MB 6.0 MB/s eta 0:00:13\n",
      "   ---------- ----------------------------- 26.7/99.8 MB 6.3 MB/s eta 0:00:12\n",
      "   ---------- ----------------------------- 27.1/99.8 MB 6.4 MB/s eta 0:00:12\n",
      "   ----------- ---------------------------- 27.6/99.8 MB 6.4 MB/s eta 0:00:12\n",
      "   ----------- ---------------------------- 27.9/99.8 MB 6.4 MB/s eta 0:00:12\n",
      "   ----------- ---------------------------- 28.3/99.8 MB 6.4 MB/s eta 0:00:12\n",
      "   ----------- ---------------------------- 28.6/99.8 MB 6.3 MB/s eta 0:00:12\n",
      "   ----------- ---------------------------- 28.8/99.8 MB 6.2 MB/s eta 0:00:12\n",
      "   ----------- ---------------------------- 28.9/99.8 MB 6.1 MB/s eta 0:00:12\n",
      "   ----------- ---------------------------- 29.0/99.8 MB 6.0 MB/s eta 0:00:12\n",
      "   ----------- ---------------------------- 29.0/99.8 MB 5.8 MB/s eta 0:00:13\n",
      "   ----------- ---------------------------- 29.1/99.8 MB 5.7 MB/s eta 0:00:13\n",
      "   ----------- ---------------------------- 29.2/99.8 MB 5.6 MB/s eta 0:00:13\n",
      "   ----------- ---------------------------- 29.3/99.8 MB 5.5 MB/s eta 0:00:13\n",
      "   ----------- ---------------------------- 29.5/99.8 MB 5.4 MB/s eta 0:00:13\n",
      "   ----------- ---------------------------- 29.6/99.8 MB 5.3 MB/s eta 0:00:14\n",
      "   ----------- ---------------------------- 29.8/99.8 MB 5.3 MB/s eta 0:00:14\n",
      "   ------------ --------------------------- 29.9/99.8 MB 5.2 MB/s eta 0:00:14\n",
      "   ------------ --------------------------- 30.3/99.8 MB 5.1 MB/s eta 0:00:14\n",
      "   ------------ --------------------------- 30.5/99.8 MB 5.1 MB/s eta 0:00:14\n",
      "   ------------ --------------------------- 30.8/99.8 MB 5.0 MB/s eta 0:00:14\n",
      "   ------------ --------------------------- 31.0/99.8 MB 5.1 MB/s eta 0:00:14\n",
      "   ------------ --------------------------- 31.3/99.8 MB 5.2 MB/s eta 0:00:14\n",
      "   ------------ --------------------------- 31.6/99.8 MB 5.4 MB/s eta 0:00:13\n",
      "   ------------ --------------------------- 31.8/99.8 MB 5.5 MB/s eta 0:00:13\n",
      "   ------------ --------------------------- 31.9/99.8 MB 5.4 MB/s eta 0:00:13\n",
      "   ------------ --------------------------- 32.2/99.8 MB 5.4 MB/s eta 0:00:13\n",
      "   ------------ --------------------------- 32.4/99.8 MB 5.5 MB/s eta 0:00:13\n",
      "   ------------- -------------------------- 32.7/99.8 MB 5.5 MB/s eta 0:00:13\n",
      "   ------------- -------------------------- 33.1/99.8 MB 5.5 MB/s eta 0:00:13\n",
      "   ------------- -------------------------- 33.4/99.8 MB 5.5 MB/s eta 0:00:12\n",
      "   ------------- -------------------------- 33.7/99.8 MB 5.6 MB/s eta 0:00:12\n",
      "   ------------- -------------------------- 34.1/99.8 MB 5.6 MB/s eta 0:00:12\n",
      "   ------------- -------------------------- 34.5/99.8 MB 5.7 MB/s eta 0:00:12\n",
      "   -------------- ------------------------- 34.9/99.8 MB 5.7 MB/s eta 0:00:12\n",
      "   -------------- ------------------------- 35.4/99.8 MB 5.7 MB/s eta 0:00:12\n",
      "   -------------- ------------------------- 35.6/99.8 MB 5.7 MB/s eta 0:00:12\n",
      "   -------------- ------------------------- 35.8/99.8 MB 5.6 MB/s eta 0:00:12\n",
      "   -------------- ------------------------- 36.1/99.8 MB 5.5 MB/s eta 0:00:12\n",
      "   -------------- ------------------------- 36.3/99.8 MB 5.6 MB/s eta 0:00:12\n",
      "   -------------- ------------------------- 36.5/99.8 MB 5.5 MB/s eta 0:00:12\n",
      "   -------------- ------------------------- 36.8/99.8 MB 5.5 MB/s eta 0:00:12\n",
      "   -------------- ------------------------- 37.2/99.8 MB 5.5 MB/s eta 0:00:12\n",
      "   --------------- ------------------------ 37.5/99.8 MB 5.4 MB/s eta 0:00:12\n",
      "   --------------- ------------------------ 37.8/99.8 MB 5.4 MB/s eta 0:00:12\n",
      "   --------------- ------------------------ 38.1/99.8 MB 5.4 MB/s eta 0:00:12\n",
      "   --------------- ------------------------ 38.3/99.8 MB 5.3 MB/s eta 0:00:12\n",
      "   --------------- ------------------------ 38.5/99.8 MB 5.3 MB/s eta 0:00:12\n",
      "   --------------- ------------------------ 38.5/99.8 MB 5.2 MB/s eta 0:00:12\n",
      "   --------------- ------------------------ 38.8/99.8 MB 5.2 MB/s eta 0:00:12\n",
      "   --------------- ------------------------ 39.0/99.8 MB 5.2 MB/s eta 0:00:12\n",
      "   --------------- ------------------------ 39.1/99.8 MB 5.2 MB/s eta 0:00:12\n",
      "   --------------- ------------------------ 39.3/99.8 MB 5.4 MB/s eta 0:00:12\n",
      "   --------------- ------------------------ 39.5/99.8 MB 5.5 MB/s eta 0:00:12\n",
      "   --------------- ------------------------ 39.8/99.8 MB 5.6 MB/s eta 0:00:11\n",
      "   ---------------- ----------------------- 40.1/99.8 MB 5.8 MB/s eta 0:00:11\n",
      "   ---------------- ----------------------- 40.4/99.8 MB 5.8 MB/s eta 0:00:11\n",
      "   ---------------- ----------------------- 40.7/99.8 MB 5.9 MB/s eta 0:00:11\n",
      "   ---------------- ----------------------- 41.0/99.8 MB 6.0 MB/s eta 0:00:10\n",
      "   ---------------- ----------------------- 41.4/99.8 MB 6.1 MB/s eta 0:00:10\n",
      "   ---------------- ----------------------- 41.7/99.8 MB 6.1 MB/s eta 0:00:10\n",
      "   ---------------- ----------------------- 42.2/99.8 MB 6.2 MB/s eta 0:00:10\n",
      "   ----------------- ---------------------- 42.4/99.8 MB 6.3 MB/s eta 0:00:10\n",
      "   ----------------- ---------------------- 42.8/99.8 MB 6.4 MB/s eta 0:00:09\n",
      "   ----------------- ---------------------- 43.2/99.8 MB 6.4 MB/s eta 0:00:09\n",
      "   ----------------- ---------------------- 43.6/99.8 MB 6.5 MB/s eta 0:00:09\n",
      "   ----------------- ---------------------- 43.9/99.8 MB 6.5 MB/s eta 0:00:09\n",
      "   ----------------- ---------------------- 44.1/99.8 MB 6.4 MB/s eta 0:00:09\n",
      "   ----------------- ---------------------- 44.2/99.8 MB 6.2 MB/s eta 0:00:09\n",
      "   ----------------- ---------------------- 44.3/99.8 MB 6.1 MB/s eta 0:00:10\n",
      "   ----------------- ---------------------- 44.4/99.8 MB 6.1 MB/s eta 0:00:10\n",
      "   ----------------- ---------------------- 44.6/99.8 MB 5.9 MB/s eta 0:00:10\n",
      "   ----------------- ---------------------- 44.7/99.8 MB 5.8 MB/s eta 0:00:10\n",
      "   ------------------ --------------------- 45.0/99.8 MB 5.7 MB/s eta 0:00:10\n",
      "   ------------------ --------------------- 45.2/99.8 MB 5.7 MB/s eta 0:00:10\n",
      "   ------------------ --------------------- 45.4/99.8 MB 5.6 MB/s eta 0:00:10\n",
      "   ------------------ --------------------- 45.6/99.8 MB 5.6 MB/s eta 0:00:10\n",
      "   ------------------ --------------------- 45.8/99.8 MB 5.5 MB/s eta 0:00:10\n",
      "   ------------------ --------------------- 46.1/99.8 MB 5.5 MB/s eta 0:00:10\n",
      "   ------------------ --------------------- 46.4/99.8 MB 5.6 MB/s eta 0:00:10\n",
      "   ------------------ --------------------- 46.6/99.8 MB 5.6 MB/s eta 0:00:10\n",
      "   ------------------ --------------------- 46.9/99.8 MB 5.6 MB/s eta 0:00:10\n",
      "   ------------------ --------------------- 47.2/99.8 MB 5.6 MB/s eta 0:00:10\n",
      "   ------------------- -------------------- 47.5/99.8 MB 5.6 MB/s eta 0:00:10\n",
      "   ------------------- -------------------- 47.9/99.8 MB 5.6 MB/s eta 0:00:10\n",
      "   ------------------- -------------------- 48.2/99.8 MB 5.6 MB/s eta 0:00:10\n",
      "   ------------------- -------------------- 48.5/99.8 MB 5.7 MB/s eta 0:00:09\n",
      "   ------------------- -------------------- 48.9/99.8 MB 5.8 MB/s eta 0:00:09\n",
      "   ------------------- -------------------- 49.2/99.8 MB 6.0 MB/s eta 0:00:09\n",
      "   ------------------- -------------------- 49.7/99.8 MB 6.3 MB/s eta 0:00:08\n",
      "   -------------------- ------------------- 50.1/99.8 MB 6.4 MB/s eta 0:00:08\n",
      "   -------------------- ------------------- 50.4/99.8 MB 6.4 MB/s eta 0:00:08\n",
      "   -------------------- ------------------- 50.7/99.8 MB 6.4 MB/s eta 0:00:08\n",
      "   -------------------- ------------------- 51.0/99.8 MB 6.4 MB/s eta 0:00:08\n",
      "   -------------------- ------------------- 51.4/99.8 MB 6.4 MB/s eta 0:00:08\n",
      "   -------------------- ------------------- 51.8/99.8 MB 6.4 MB/s eta 0:00:08\n",
      "   -------------------- ------------------- 52.0/99.8 MB 6.3 MB/s eta 0:00:08\n",
      "   -------------------- ------------------- 52.2/99.8 MB 6.3 MB/s eta 0:00:08\n",
      "   -------------------- ------------------- 52.4/99.8 MB 6.2 MB/s eta 0:00:08\n",
      "   --------------------- ------------------ 52.6/99.8 MB 6.2 MB/s eta 0:00:08\n",
      "   --------------------- ------------------ 52.7/99.8 MB 6.1 MB/s eta 0:00:08\n",
      "   --------------------- ------------------ 53.0/99.8 MB 6.0 MB/s eta 0:00:08\n",
      "   --------------------- ------------------ 53.2/99.8 MB 6.0 MB/s eta 0:00:08\n",
      "   --------------------- ------------------ 53.5/99.8 MB 5.9 MB/s eta 0:00:08\n",
      "   --------------------- ------------------ 53.7/99.8 MB 5.8 MB/s eta 0:00:08\n",
      "   --------------------- ------------------ 54.0/99.8 MB 5.8 MB/s eta 0:00:08\n",
      "   --------------------- ------------------ 54.4/99.8 MB 6.0 MB/s eta 0:00:08\n",
      "   --------------------- ------------------ 54.6/99.8 MB 6.1 MB/s eta 0:00:08\n",
      "   --------------------- ------------------ 54.8/99.8 MB 6.2 MB/s eta 0:00:08\n",
      "   ---------------------- ----------------- 55.1/99.8 MB 6.3 MB/s eta 0:00:08\n",
      "   ---------------------- ----------------- 55.3/99.8 MB 6.3 MB/s eta 0:00:08\n",
      "   ---------------------- ----------------- 55.6/99.8 MB 6.4 MB/s eta 0:00:07\n",
      "   ---------------------- ----------------- 55.9/99.8 MB 6.4 MB/s eta 0:00:07\n",
      "   ---------------------- ----------------- 56.2/99.8 MB 6.4 MB/s eta 0:00:07\n",
      "   ---------------------- ----------------- 56.5/99.8 MB 6.5 MB/s eta 0:00:07\n",
      "   ---------------------- ----------------- 56.9/99.8 MB 6.5 MB/s eta 0:00:07\n",
      "   ---------------------- ----------------- 57.1/99.8 MB 6.5 MB/s eta 0:00:07\n",
      "   ----------------------- ---------------- 57.4/99.8 MB 6.5 MB/s eta 0:00:07\n",
      "   ----------------------- ---------------- 57.6/99.8 MB 6.4 MB/s eta 0:00:07\n",
      "   ----------------------- ---------------- 57.9/99.8 MB 6.4 MB/s eta 0:00:07\n",
      "   ----------------------- ---------------- 58.2/99.8 MB 6.4 MB/s eta 0:00:07\n",
      "   ----------------------- ---------------- 58.5/99.8 MB 6.3 MB/s eta 0:00:07\n",
      "   ----------------------- ---------------- 58.8/99.8 MB 6.3 MB/s eta 0:00:07\n",
      "   ----------------------- ---------------- 59.1/99.8 MB 6.3 MB/s eta 0:00:07\n",
      "   ----------------------- ---------------- 59.5/99.8 MB 6.2 MB/s eta 0:00:07\n",
      "   ----------------------- ---------------- 59.7/99.8 MB 6.1 MB/s eta 0:00:07\n",
      "   ------------------------ --------------- 59.9/99.8 MB 6.1 MB/s eta 0:00:07\n",
      "   ------------------------ --------------- 60.1/99.8 MB 6.0 MB/s eta 0:00:07\n",
      "   ------------------------ --------------- 60.4/99.8 MB 6.0 MB/s eta 0:00:07\n",
      "   ------------------------ --------------- 60.6/99.8 MB 5.9 MB/s eta 0:00:07\n",
      "   ------------------------ --------------- 60.8/99.8 MB 5.8 MB/s eta 0:00:07\n",
      "   ------------------------ --------------- 61.1/99.8 MB 5.8 MB/s eta 0:00:07\n",
      "   ------------------------ --------------- 61.4/99.8 MB 5.8 MB/s eta 0:00:07\n",
      "   ------------------------ --------------- 61.6/99.8 MB 5.7 MB/s eta 0:00:07\n",
      "   ------------------------ --------------- 61.9/99.8 MB 5.6 MB/s eta 0:00:07\n",
      "   ------------------------ --------------- 62.1/99.8 MB 5.7 MB/s eta 0:00:07\n",
      "   ------------------------- -------------- 62.5/99.8 MB 5.7 MB/s eta 0:00:07\n",
      "   ------------------------- -------------- 62.8/99.8 MB 5.8 MB/s eta 0:00:07\n",
      "   ------------------------- -------------- 63.1/99.8 MB 6.0 MB/s eta 0:00:07\n",
      "   ------------------------- -------------- 63.4/99.8 MB 6.1 MB/s eta 0:00:06\n",
      "   ------------------------- -------------- 63.8/99.8 MB 6.1 MB/s eta 0:00:06\n",
      "   ------------------------- -------------- 64.2/99.8 MB 6.1 MB/s eta 0:00:06\n",
      "   ------------------------- -------------- 64.6/99.8 MB 6.2 MB/s eta 0:00:06\n",
      "   -------------------------- ------------- 64.9/99.8 MB 6.3 MB/s eta 0:00:06\n",
      "   -------------------------- ------------- 65.1/99.8 MB 6.2 MB/s eta 0:00:06\n",
      "   -------------------------- ------------- 65.3/99.8 MB 6.1 MB/s eta 0:00:06\n",
      "   -------------------------- ------------- 65.5/99.8 MB 6.1 MB/s eta 0:00:06\n",
      "   -------------------------- ------------- 65.6/99.8 MB 6.1 MB/s eta 0:00:06\n",
      "   -------------------------- ------------- 65.8/99.8 MB 6.0 MB/s eta 0:00:06\n",
      "   -------------------------- ------------- 66.0/99.8 MB 6.0 MB/s eta 0:00:06\n",
      "   -------------------------- ------------- 66.2/99.8 MB 6.0 MB/s eta 0:00:06\n",
      "   -------------------------- ------------- 66.5/99.8 MB 5.9 MB/s eta 0:00:06\n",
      "   -------------------------- ------------- 66.8/99.8 MB 5.9 MB/s eta 0:00:06\n",
      "   -------------------------- ------------- 67.1/99.8 MB 5.8 MB/s eta 0:00:06\n",
      "   --------------------------- ------------ 67.4/99.8 MB 5.8 MB/s eta 0:00:06\n",
      "   --------------------------- ------------ 67.7/99.8 MB 5.9 MB/s eta 0:00:06\n",
      "   --------------------------- ------------ 68.0/99.8 MB 6.0 MB/s eta 0:00:06\n",
      "   --------------------------- ------------ 68.3/99.8 MB 6.0 MB/s eta 0:00:06\n",
      "   --------------------------- ------------ 68.7/99.8 MB 6.1 MB/s eta 0:00:06\n",
      "   --------------------------- ------------ 69.0/99.8 MB 6.1 MB/s eta 0:00:06\n",
      "   --------------------------- ------------ 69.4/99.8 MB 6.1 MB/s eta 0:00:06\n",
      "   --------------------------- ------------ 69.7/99.8 MB 6.1 MB/s eta 0:00:05\n",
      "   ---------------------------- ----------- 70.0/99.8 MB 6.1 MB/s eta 0:00:05\n",
      "   ---------------------------- ----------- 70.3/99.8 MB 6.2 MB/s eta 0:00:05\n",
      "   ---------------------------- ----------- 70.7/99.8 MB 6.3 MB/s eta 0:00:05\n",
      "   ---------------------------- ----------- 71.0/99.8 MB 6.4 MB/s eta 0:00:05\n",
      "   ---------------------------- ----------- 71.3/99.8 MB 6.5 MB/s eta 0:00:05\n",
      "   ---------------------------- ----------- 71.7/99.8 MB 6.5 MB/s eta 0:00:05\n",
      "   ---------------------------- ----------- 71.9/99.8 MB 6.5 MB/s eta 0:00:05\n",
      "   ---------------------------- ----------- 72.1/99.8 MB 6.5 MB/s eta 0:00:05\n",
      "   ---------------------------- ----------- 72.2/99.8 MB 6.4 MB/s eta 0:00:05\n",
      "   ----------------------------- ---------- 72.4/99.8 MB 6.3 MB/s eta 0:00:05\n",
      "   ----------------------------- ---------- 72.7/99.8 MB 6.2 MB/s eta 0:00:05\n",
      "   ----------------------------- ---------- 72.9/99.8 MB 6.2 MB/s eta 0:00:05\n",
      "   ----------------------------- ---------- 73.1/99.8 MB 6.2 MB/s eta 0:00:05\n",
      "   ----------------------------- ---------- 73.4/99.8 MB 6.1 MB/s eta 0:00:05\n",
      "   ----------------------------- ---------- 73.7/99.8 MB 6.1 MB/s eta 0:00:05\n",
      "   ----------------------------- ---------- 74.0/99.8 MB 6.1 MB/s eta 0:00:05\n",
      "   ----------------------------- ---------- 74.3/99.8 MB 6.0 MB/s eta 0:00:05\n",
      "   ----------------------------- ---------- 74.6/99.8 MB 6.0 MB/s eta 0:00:05\n",
      "   ------------------------------ --------- 75.0/99.8 MB 6.0 MB/s eta 0:00:05\n",
      "   ------------------------------ --------- 75.4/99.8 MB 6.2 MB/s eta 0:00:04\n",
      "   ------------------------------ --------- 75.8/99.8 MB 6.3 MB/s eta 0:00:04\n",
      "   ------------------------------ --------- 76.1/99.8 MB 6.4 MB/s eta 0:00:04\n",
      "   ------------------------------ --------- 76.5/99.8 MB 6.5 MB/s eta 0:00:04\n",
      "   ------------------------------ --------- 76.7/99.8 MB 6.6 MB/s eta 0:00:04\n",
      "   ------------------------------ --------- 77.0/99.8 MB 6.6 MB/s eta 0:00:04\n",
      "   ------------------------------ --------- 77.2/99.8 MB 6.7 MB/s eta 0:00:04\n",
      "   ------------------------------- -------- 77.4/99.8 MB 6.5 MB/s eta 0:00:04\n",
      "   ------------------------------- -------- 77.5/99.8 MB 6.4 MB/s eta 0:00:04\n",
      "   ------------------------------- -------- 77.7/99.8 MB 6.3 MB/s eta 0:00:04\n",
      "   ------------------------------- -------- 77.9/99.8 MB 6.2 MB/s eta 0:00:04\n",
      "   ------------------------------- -------- 78.1/99.8 MB 6.1 MB/s eta 0:00:04\n",
      "   ------------------------------- -------- 78.3/99.8 MB 6.1 MB/s eta 0:00:04\n",
      "   ------------------------------- -------- 78.5/99.8 MB 6.0 MB/s eta 0:00:04\n",
      "   ------------------------------- -------- 78.8/99.8 MB 6.0 MB/s eta 0:00:04\n",
      "   ------------------------------- -------- 79.0/99.8 MB 5.9 MB/s eta 0:00:04\n",
      "   ------------------------------- -------- 79.3/99.8 MB 5.9 MB/s eta 0:00:04\n",
      "   ------------------------------- -------- 79.6/99.8 MB 5.9 MB/s eta 0:00:04\n",
      "   -------------------------------- ------- 80.0/99.8 MB 5.8 MB/s eta 0:00:04\n",
      "   -------------------------------- ------- 80.3/99.8 MB 5.8 MB/s eta 0:00:04\n",
      "   -------------------------------- ------- 80.6/99.8 MB 5.8 MB/s eta 0:00:04\n",
      "   -------------------------------- ------- 80.9/99.8 MB 5.8 MB/s eta 0:00:04\n",
      "   -------------------------------- ------- 81.3/99.8 MB 5.8 MB/s eta 0:00:04\n",
      "   -------------------------------- ------- 81.6/99.8 MB 5.9 MB/s eta 0:00:04\n",
      "   -------------------------------- ------- 82.0/99.8 MB 6.0 MB/s eta 0:00:03\n",
      "   -------------------------------- ------- 82.2/99.8 MB 6.0 MB/s eta 0:00:03\n",
      "   --------------------------------- ------ 82.3/99.8 MB 6.0 MB/s eta 0:00:03\n",
      "   --------------------------------- ------ 82.5/99.8 MB 6.0 MB/s eta 0:00:03\n",
      "   --------------------------------- ------ 82.6/99.8 MB 5.9 MB/s eta 0:00:03\n",
      "   --------------------------------- ------ 82.7/99.8 MB 5.8 MB/s eta 0:00:03\n",
      "   --------------------------------- ------ 83.1/99.8 MB 5.8 MB/s eta 0:00:03\n",
      "   --------------------------------- ------ 83.5/99.8 MB 6.0 MB/s eta 0:00:03\n",
      "   --------------------------------- ------ 84.0/99.8 MB 6.1 MB/s eta 0:00:03\n",
      "   --------------------------------- ------ 84.5/99.8 MB 6.2 MB/s eta 0:00:03\n",
      "   ---------------------------------- ----- 84.9/99.8 MB 6.3 MB/s eta 0:00:03\n",
      "   ---------------------------------- ----- 85.4/99.8 MB 6.3 MB/s eta 0:00:03\n",
      "   ---------------------------------- ----- 85.8/99.8 MB 6.4 MB/s eta 0:00:03\n",
      "   ---------------------------------- ----- 86.1/99.8 MB 6.3 MB/s eta 0:00:03\n",
      "   ---------------------------------- ----- 86.4/99.8 MB 6.2 MB/s eta 0:00:03\n",
      "   ---------------------------------- ----- 86.6/99.8 MB 6.2 MB/s eta 0:00:03\n",
      "   ---------------------------------- ----- 86.8/99.8 MB 6.1 MB/s eta 0:00:03\n",
      "   ---------------------------------- ----- 86.9/99.8 MB 6.1 MB/s eta 0:00:03\n",
      "   ---------------------------------- ----- 87.0/99.8 MB 6.0 MB/s eta 0:00:03\n",
      "   ---------------------------------- ----- 87.1/99.8 MB 5.8 MB/s eta 0:00:03\n",
      "   ---------------------------------- ----- 87.3/99.8 MB 5.7 MB/s eta 0:00:03\n",
      "   ----------------------------------- ---- 87.4/99.8 MB 5.7 MB/s eta 0:00:03\n",
      "   ----------------------------------- ---- 87.6/99.8 MB 5.6 MB/s eta 0:00:03\n",
      "   ----------------------------------- ---- 87.8/99.8 MB 5.7 MB/s eta 0:00:03\n",
      "   ----------------------------------- ---- 88.0/99.8 MB 5.7 MB/s eta 0:00:03\n",
      "   ----------------------------------- ---- 88.2/99.8 MB 5.8 MB/s eta 0:00:02\n",
      "   ----------------------------------- ---- 88.5/99.8 MB 5.8 MB/s eta 0:00:02\n",
      "   ----------------------------------- ---- 88.7/99.8 MB 5.9 MB/s eta 0:00:02\n",
      "   ----------------------------------- ---- 89.0/99.8 MB 5.8 MB/s eta 0:00:02\n",
      "   ----------------------------------- ---- 89.3/99.8 MB 5.9 MB/s eta 0:00:02\n",
      "   ----------------------------------- ---- 89.6/99.8 MB 6.0 MB/s eta 0:00:02\n",
      "   ------------------------------------ --- 89.9/99.8 MB 6.0 MB/s eta 0:00:02\n",
      "   ------------------------------------ --- 90.3/99.8 MB 6.0 MB/s eta 0:00:02\n",
      "   ------------------------------------ --- 90.6/99.8 MB 6.0 MB/s eta 0:00:02\n",
      "   ------------------------------------ --- 91.0/99.8 MB 6.0 MB/s eta 0:00:02\n",
      "   ------------------------------------ --- 91.3/99.8 MB 6.0 MB/s eta 0:00:02\n",
      "   ------------------------------------ --- 91.7/99.8 MB 6.0 MB/s eta 0:00:02\n",
      "   ------------------------------------ --- 92.1/99.8 MB 6.0 MB/s eta 0:00:02\n",
      "   ------------------------------------- -- 92.5/99.8 MB 6.0 MB/s eta 0:00:02\n",
      "   ------------------------------------- -- 92.9/99.8 MB 6.5 MB/s eta 0:00:02\n",
      "   ------------------------------------- -- 93.1/99.8 MB 6.5 MB/s eta 0:00:02\n",
      "   ------------------------------------- -- 93.7/99.8 MB 6.5 MB/s eta 0:00:01\n",
      "   ------------------------------------- -- 94.1/99.8 MB 6.5 MB/s eta 0:00:01\n",
      "   ------------------------------------- -- 94.2/99.8 MB 6.4 MB/s eta 0:00:01\n",
      "   ------------------------------------- -- 94.4/99.8 MB 6.3 MB/s eta 0:00:01\n",
      "   ------------------------------------- -- 94.6/99.8 MB 6.2 MB/s eta 0:00:01\n",
      "   ------------------------------------- -- 94.7/99.8 MB 6.1 MB/s eta 0:00:01\n",
      "   -------------------------------------- - 94.9/99.8 MB 6.0 MB/s eta 0:00:01\n",
      "   -------------------------------------- - 95.0/99.8 MB 5.9 MB/s eta 0:00:01\n",
      "   -------------------------------------- - 95.2/99.8 MB 5.8 MB/s eta 0:00:01\n",
      "   -------------------------------------- - 95.3/99.8 MB 5.6 MB/s eta 0:00:01\n",
      "   -------------------------------------- - 95.6/99.8 MB 5.6 MB/s eta 0:00:01\n",
      "   -------------------------------------- - 95.8/99.8 MB 5.5 MB/s eta 0:00:01\n",
      "   -------------------------------------- - 96.1/99.8 MB 5.5 MB/s eta 0:00:01\n",
      "   -------------------------------------- - 96.3/99.8 MB 5.4 MB/s eta 0:00:01\n",
      "   -------------------------------------- - 96.6/99.8 MB 5.5 MB/s eta 0:00:01\n",
      "   -------------------------------------- - 96.8/99.8 MB 5.5 MB/s eta 0:00:01\n",
      "   -------------------------------------- - 97.2/99.8 MB 5.6 MB/s eta 0:00:01\n",
      "   ---------------------------------------  97.4/99.8 MB 5.8 MB/s eta 0:00:01\n",
      "   ---------------------------------------  97.8/99.8 MB 6.1 MB/s eta 0:00:01\n",
      "   ---------------------------------------  98.2/99.8 MB 6.1 MB/s eta 0:00:01\n",
      "   ---------------------------------------  98.5/99.8 MB 6.2 MB/s eta 0:00:01\n",
      "   ---------------------------------------  98.9/99.8 MB 6.4 MB/s eta 0:00:01\n",
      "   ---------------------------------------  99.2/99.8 MB 6.4 MB/s eta 0:00:01\n",
      "   ---------------------------------------  99.6/99.8 MB 6.4 MB/s eta 0:00:01\n",
      "   ---------------------------------------  99.7/99.8 MB 6.5 MB/s eta 0:00:01\n",
      "   ---------------------------------------  99.7/99.8 MB 6.5 MB/s eta 0:00:01\n",
      "   ---------------------------------------  99.7/99.8 MB 6.5 MB/s eta 0:00:01\n",
      "   ---------------------------------------  99.7/99.8 MB 6.5 MB/s eta 0:00:01\n",
      "   ---------------------------------------  99.7/99.8 MB 6.5 MB/s eta 0:00:01\n",
      "   ---------------------------------------  99.7/99.8 MB 6.5 MB/s eta 0:00:01\n",
      "   ---------------------------------------  99.7/99.8 MB 6.5 MB/s eta 0:00:01\n",
      "   ---------------------------------------- 99.8/99.8 MB 5.5 MB/s eta 0:00:00\n",
      "Installing collected packages: xgboost\n",
      "Successfully installed xgboost-2.0.3\n"
     ]
    }
   ],
   "source": [
    "!pip install xgboost"
   ]
  },
  {
   "cell_type": "code",
   "execution_count": 48,
   "id": "692a06aa",
   "metadata": {},
   "outputs": [
    {
     "name": "stdout",
     "output_type": "stream",
     "text": [
      "Accuracy: 1.0\n",
      "class=p1\n",
      "\n",
      "Precision: 1.0\n",
      "Recall:1.0\n",
      "F1_score: 1.0\n",
      "\n",
      "\n",
      "class=p2\n",
      "\n",
      "Precision: 1.0\n",
      "Recall:1.0\n",
      "F1_score: 1.0\n",
      "\n",
      "\n",
      "class=p3\n",
      "\n",
      "Precision: 1.0\n",
      "Recall:1.0\n",
      "F1_score: 1.0\n",
      "\n",
      "\n",
      "class=p4\n",
      "\n",
      "Precision: 1.0\n",
      "Recall:1.0\n",
      "F1_score: 1.0\n",
      "\n",
      "\n"
     ]
    }
   ],
   "source": [
    "import xgboost as xgb\n",
    "from sklearn.preprocessing import LabelEncoder\n",
    "\n",
    "xgb_classifier=xgb.XGBClassifier(objective='multi:softmax',num_class=4)\n",
    "label_encoder=LabelEncoder()\n",
    "\n",
    "y=df_encoded['Approved_Flag']\n",
    "X=df_encoded.drop(['Approved_Flag'],axis=1)\n",
    "\n",
    "y_encoded=label_encoder.fit_transform(y)\n",
    "X_train,X_test,y_train,y_test=train_test_split(X,y_encoded,test_size=0.2,random_state=42)\n",
    "\n",
    "xgb_classifier.fit(X_train,y_train)\n",
    "y_pred=xgb_classifier.predict(X_test)\n",
    "accuracy=accuracy_score(y_test,y_pred)\n",
    "print(f\"Accuracy: {accuracy}\")\n",
    "precision,recall,f1_score,_=precision_recall_fscore_support(y_test,y_pred)\n",
    "\n",
    "for i,v in enumerate (['p1','p2','p3','p4']):\n",
    "    print(f\"class={v}\")\n",
    "    print()\n",
    "    print(f\"Precision: {precision[i]}\")\n",
    "    print(f\"Recall:{recall[i]}\")\n",
    "    print(f\"F1_score: {f1_score[i]}\")\n",
    "    print(\"\\n\")"
   ]
  },
  {
   "cell_type": "markdown",
   "id": "264a798f",
   "metadata": {},
   "source": [
    "# 3. Decision Tree Classifier"
   ]
  },
  {
   "cell_type": "code",
   "execution_count": 49,
   "id": "e53b99a6",
   "metadata": {},
   "outputs": [
    {
     "name": "stdout",
     "output_type": "stream",
     "text": [
      "Accuracy:  1.0\n",
      "class=p1\n",
      "\n",
      "Precision: 1.0\n",
      "Recall:1.0\n",
      "F1_score: 1.0\n",
      "\n",
      "\n",
      "class=p2\n",
      "\n",
      "Precision: 1.0\n",
      "Recall:1.0\n",
      "F1_score: 1.0\n",
      "\n",
      "\n",
      "class=p3\n",
      "\n",
      "Precision: 1.0\n",
      "Recall:1.0\n",
      "F1_score: 1.0\n",
      "\n",
      "\n",
      "class=p4\n",
      "\n",
      "Precision: 1.0\n",
      "Recall:1.0\n",
      "F1_score: 1.0\n",
      "\n",
      "\n"
     ]
    }
   ],
   "source": [
    "from sklearn.tree import DecisionTreeClassifier\n",
    "y=df_encoded['Approved_Flag']\n",
    "X=df_encoded.drop(['Approved_Flag'],axis=1)\n",
    "X_train,X_test,y_train,y_test=train_test_split(X,y,test_size=0.2,random_state=42)\n",
    "dt=DecisionTreeClassifier(max_depth=20,min_samples_split=10)\n",
    "dt.fit(X_train,y_train)\n",
    "y_pred=dt.predict(X_test)\n",
    "accuracy=accuracy_score(y_test,y_pred)\n",
    "print('Accuracy: ',accuracy)\n",
    "precision,recall,f1_score,_=precision_recall_fscore_support(y_test,y_pred)\n",
    "\n",
    "for i,v in enumerate (['p1','p2','p3','p4']):\n",
    "    print(f\"class={v}\")\n",
    "    print()\n",
    "    print(f\"Precision: {precision[i]}\")\n",
    "    print(f\"Recall:{recall[i]}\")\n",
    "    print(f\"F1_score: {f1_score[i]}\")\n",
    "    print(\"\\n\")"
   ]
  },
  {
   "cell_type": "code",
   "execution_count": null,
   "id": "ae510376",
   "metadata": {},
   "outputs": [],
   "source": []
  }
 ],
 "metadata": {
  "kernelspec": {
   "display_name": "Python 3 (ipykernel)",
   "language": "python",
   "name": "python3"
  },
  "language_info": {
   "codemirror_mode": {
    "name": "ipython",
    "version": 3
   },
   "file_extension": ".py",
   "mimetype": "text/x-python",
   "name": "python",
   "nbconvert_exporter": "python",
   "pygments_lexer": "ipython3",
   "version": "3.11.7"
  }
 },
 "nbformat": 4,
 "nbformat_minor": 5
}
